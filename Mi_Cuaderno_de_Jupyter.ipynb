{
 "cells": [
  {
   "cell_type": "markdown",
   "id": "52a69cbd",
   "metadata": {},
   "source": [
    "# Mi primer cuaderno de Jupyter Notebook\n",
    "Esta es una prueba de ejecución de código Python y Markdown dentro de Jupyter Notebook"
   ]
  },
  {
   "cell_type": "code",
   "execution_count": 2,
   "id": "9639a2c2",
   "metadata": {},
   "outputs": [
    {
     "name": "stdout",
     "output_type": "stream",
     "text": [
      "Hola mundo\n"
     ]
    }
   ],
   "source": [
    "print(\"Hola mundo\")"
   ]
  },
  {
   "cell_type": "markdown",
   "id": "04417f61",
   "metadata": {},
   "source": [
    "# Listas en Python\n",
    "Las listas son utilizadas para almacenar datos simples "
   ]
  },
  {
   "cell_type": "code",
   "execution_count": 4,
   "id": "bfd76636",
   "metadata": {},
   "outputs": [
    {
     "name": "stdout",
     "output_type": "stream",
     "text": [
      "[0, 4, 7, 3, 9, 2, 8]\n",
      "[0, 2, 3, 4, 7, 8, 9]\n"
     ]
    }
   ],
   "source": [
    "mi_lista = [0,4,7,3,9,2,8]\n",
    "print(mi_lista)\n",
    "mi_lista.sort()\n",
    "print(mi_lista)"
   ]
  },
  {
   "cell_type": "markdown",
   "id": "c60ab4b3",
   "metadata": {},
   "source": [
    "# Tuplas en Python\n",
    "Las tuplas son utilizadas para almacenar datos simples que no se puedan cambiar"
   ]
  },
  {
   "cell_type": "code",
   "execution_count": 6,
   "id": "f0681a65",
   "metadata": {},
   "outputs": [
    {
     "name": "stdout",
     "output_type": "stream",
     "text": [
      "('manzana', 'mango', 'naranja')\n"
     ]
    }
   ],
   "source": [
    "mi_tupla = (\"manzana\",\"mango\",\"naranja\")\n",
    "print(mi_tupla)"
   ]
  },
  {
   "cell_type": "markdown",
   "id": "57b6d947",
   "metadata": {},
   "source": [
    "# Sets en Python\n",
    "Se utilizan para almacenar datos simples, desordenados y no indexados"
   ]
  },
  {
   "cell_type": "code",
   "execution_count": 8,
   "id": "aad4828b",
   "metadata": {},
   "outputs": [
    {
     "name": "stdout",
     "output_type": "stream",
     "text": [
      "{'naranja', 'manzana', 'mango'}\n"
     ]
    }
   ],
   "source": [
    "mi_set = {\"manzana\", \"mango\", \"naranja\"}\n",
    "print(mi_set)"
   ]
  },
  {
   "cell_type": "markdown",
   "id": "c2f865fd",
   "metadata": {},
   "source": [
    "# Diccionarios en Python\n",
    "Se usan para almacenar valores de datos en pares de clave:valor, no permite duplicados"
   ]
  },
  {
   "cell_type": "code",
   "execution_count": 9,
   "id": "c1f46229",
   "metadata": {},
   "outputs": [
    {
     "name": "stdout",
     "output_type": "stream",
     "text": [
      "{'nombre': 'Yesser', 'cedula': '8163535363637', 'correo': 'nombre@mail.com'}\n"
     ]
    }
   ],
   "source": [
    "mi_diccionario = {\n",
    "    \"nombre\": \"Yesser\",\n",
    "    \"cedula\": \"8163535363637\",\n",
    "    \"correo\": \"nombre@mail.com\"\n",
    "}\n",
    "print(mi_diccionario)"
   ]
  },
  {
   "cell_type": "code",
   "execution_count": 10,
   "id": "2ea0d2a3",
   "metadata": {},
   "outputs": [
    {
     "name": "stdout",
     "output_type": "stream",
     "text": [
      "nombre@mail.com\n"
     ]
    }
   ],
   "source": [
    "# accediendo a datos del diccionario \n",
    "print(mi_diccionario[\"correo\"])"
   ]
  },
  {
   "cell_type": "markdown",
   "id": "ac41fbda",
   "metadata": {},
   "source": [
    "# Fechas en Python\n",
    "Los objetos de fecha se manipulan usando el modulo **datetime**"
   ]
  },
  {
   "cell_type": "code",
   "execution_count": 11,
   "id": "a51d647c",
   "metadata": {},
   "outputs": [],
   "source": [
    "import datetime"
   ]
  },
  {
   "cell_type": "code",
   "execution_count": 12,
   "id": "3a477864",
   "metadata": {},
   "outputs": [
    {
     "name": "stdout",
     "output_type": "stream",
     "text": [
      "2021-08-23 16:23:00.455676\n"
     ]
    }
   ],
   "source": [
    "x = datetime.datetime.now()\n",
    "print(x)"
   ]
  },
  {
   "cell_type": "markdown",
   "id": "edb0ef51",
   "metadata": {},
   "source": [
    "# Aplicando Numpy\n",
    "Importando numpy para el calculo de la media, mediana y moda"
   ]
  },
  {
   "cell_type": "code",
   "execution_count": 13,
   "id": "1e69ffaa",
   "metadata": {},
   "outputs": [],
   "source": [
    "import numpy"
   ]
  },
  {
   "cell_type": "code",
   "execution_count": 17,
   "id": "eb2eb9f8",
   "metadata": {},
   "outputs": [
    {
     "name": "stdout",
     "output_type": "stream",
     "text": [
      "79.07692307692308\n"
     ]
    }
   ],
   "source": [
    "# calculo de la media \n",
    "velocidades = [70,80,77,82,90,76,77,85,86,82,76,75,72]\n",
    "resultado_normal = (70+80+77+82+90+76+77+85+86+82+76+75+72)/13\n",
    "print(resultado_normal)"
   ]
  },
  {
   "cell_type": "code",
   "execution_count": 16,
   "id": "2ae561fe",
   "metadata": {},
   "outputs": [
    {
     "name": "stdout",
     "output_type": "stream",
     "text": [
      "79.07692307692308\n"
     ]
    }
   ],
   "source": [
    "resultado_numpy = numpy.mean(velocidades)\n",
    "print(resultado_numpy)"
   ]
  },
  {
   "cell_type": "code",
   "execution_count": 18,
   "id": "0c12ae6c",
   "metadata": {},
   "outputs": [
    {
     "name": "stdout",
     "output_type": "stream",
     "text": [
      "mediana:  77.0\n"
     ]
    }
   ],
   "source": [
    "# calculo de la mediana\n",
    "mediana = numpy.median(velocidades)\n",
    "print(\"mediana: \", mediana)"
   ]
  },
  {
   "cell_type": "code",
   "execution_count": 21,
   "id": "7143745a",
   "metadata": {},
   "outputs": [
    {
     "name": "stdout",
     "output_type": "stream",
     "text": [
      "Mode:  ModeResult(mode=array([76]), count=array([2]))\n"
     ]
    }
   ],
   "source": [
    "# calculo de la moda\n",
    "from scipy import stats\n",
    "moda = stats.mode(velocidades)\n",
    "print(\"Mode: \", moda)"
   ]
  }
 ],
 "metadata": {
  "kernelspec": {
   "display_name": "Python 3",
   "language": "python",
   "name": "python3"
  },
  "language_info": {
   "codemirror_mode": {
    "name": "ipython",
    "version": 3
   },
   "file_extension": ".py",
   "mimetype": "text/x-python",
   "name": "python",
   "nbconvert_exporter": "python",
   "pygments_lexer": "ipython3",
   "version": "3.8.8"
  }
 },
 "nbformat": 4,
 "nbformat_minor": 5
}
